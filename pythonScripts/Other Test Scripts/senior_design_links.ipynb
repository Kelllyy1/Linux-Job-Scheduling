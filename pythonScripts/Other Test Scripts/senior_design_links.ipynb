{
  "cells": [
    {
      "cell_type": "markdown",
      "metadata": {
        "colab_type": "text",
        "id": "view-in-github"
      },
      "source": [
        "<a href=\"https://colab.research.google.com/drive/1pMoAQJwMGAEUDUPgBC3OwWZLMQ8nr_mg?usp=sharing\" target=\"_parent\"><img src=\"https://colab.research.google.com/assets/colab-badge.svg\" alt=\"Open In Colab\"/></a>"
      ]
    },
    {
      "cell_type": "code",
      "execution_count": null,
      "metadata": {
        "colab": {
          "base_uri": "https://localhost:8080/"
        },
        "id": "sfFc2szKZHqb",
        "outputId": "eb4267fb-8b53-44c8-a71f-a58aab0642d5"
      },
      "outputs": [
        {
          "name": "stdout",
          "output_type": "stream",
          "text": [
            "https://www.ece.ucf.edu/seniordesign/fa2023sp2024/g01\n",
            "https://www.ece.ucf.edu/seniordesign/fa2023sp2024/g02\n",
            "https://www.ece.ucf.edu/seniordesign/fa2023sp2024/g03\n",
            "https://www.ece.ucf.edu/seniordesign/fa2023sp2024/g04\n",
            "https://www.ece.ucf.edu/seniordesign/fa2023sp2024/g05\n",
            "https://www.ece.ucf.edu/seniordesign/fa2023sp2024/g06\n",
            "https://www.ece.ucf.edu/seniordesign/fa2023sp2024/g07\n",
            "https://www.ece.ucf.edu/seniordesign/fa2023sp2024/g08\n",
            "https://www.ece.ucf.edu/seniordesign/fa2023sp2024/g09\n",
            "https://www.ece.ucf.edu/seniordesign/fa2023sp2024/g10\n",
            "https://www.ece.ucf.edu/seniordesign/fa2023sp2024/g11\n",
            "https://www.ece.ucf.edu/seniordesign/fa2023sp2024/g12\n",
            "https://www.ece.ucf.edu/seniordesign/fa2023sp2024/g13\n",
            "https://www.ece.ucf.edu/seniordesign/fa2023sp2024/g14\n",
            "https://www.ece.ucf.edu/seniordesign/fa2023sp2024/g15\n",
            "https://www.ece.ucf.edu/seniordesign/fa2023sp2024/g16\n",
            "https://www.ece.ucf.edu/seniordesign/fa2023sp2024/g17\n",
            "https://www.ece.ucf.edu/seniordesign/fa2023sp2024/g18\n",
            "https://www.ece.ucf.edu/seniordesign/fa2023sp2024/g19\n",
            "https://www.ece.ucf.edu/seniordesign/fa2023sp2024/g20\n",
            "https://www.ece.ucf.edu/seniordesign/fa2023sp2024/g21\n",
            "https://www.ece.ucf.edu/seniordesign/fa2023sp2024/g22\n",
            "https://www.ece.ucf.edu/seniordesign/fa2023sp2024/g23\n",
            "https://www.ece.ucf.edu/seniordesign/fa2023sp2024/g24\n",
            "https://www.ece.ucf.edu/seniordesign/fa2023sp2024/g25\n",
            "https://www.ece.ucf.edu/seniordesign/fa2023sp2024/g26\n",
            "https://www.ece.ucf.edu/seniordesign/fa2023sp2024/g27\n",
            "https://www.ece.ucf.edu/seniordesign/fa2023sp2024/g28\n",
            "https://www.ece.ucf.edu/seniordesign/fa2023sp2024/g29\n",
            "https://www.ece.ucf.edu/seniordesign/fa2023sp2024/g30\n",
            "https://www.ece.ucf.edu/seniordesign/fa2023sp2024/g31\n",
            "https://www.ece.ucf.edu/seniordesign/fa2023sp2024/g32\n",
            "https://www.ece.ucf.edu/seniordesign/fa2023sp2024/g33\n",
            "https://www.ece.ucf.edu/seniordesign/fa2023sp2024/g34\n",
            "https://www.ece.ucf.edu/seniordesign/fa2023sp2024/g35\n",
            "https://www.ece.ucf.edu/seniordesign/fa2023sp2024/g36\n",
            "https://www.ece.ucf.edu/seniordesign/fa2023sp2024/g37\n",
            "https://www.ece.ucf.edu/seniordesign/fa2023sp2024/g38\n",
            "https://www.ece.ucf.edu/seniordesign/fa2023sp2024/g39\n"
          ]
        }
      ],
      "source": [
        "# UCF Senior Design Project Link Generator (Fall 2023 - Spring 2024)\n",
        "\n",
        "base_url = \"https://www.ece.ucf.edu/seniordesign/fa2023sp2024/g\"\n",
        "project_links = []\n",
        "\n",
        "# Generate g01 to g39\n",
        "for i in range(1, 40):\n",
        "    group_number = str(i).zfill(2)\n",
        "    url = f\"{base_url}{group_number}\"\n",
        "    project_links.append(url)\n",
        "\n",
        "# Print the links\n",
        "for link in project_links:\n",
        "    print(link)"
      ]
    }
  ],
  "metadata": {
    "colab": {
      "authorship_tag": "ABX9TyNDHt3INX/HqXN/cXtc25/U",
      "include_colab_link": true,
      "provenance": []
    },
    "kernelspec": {
      "display_name": "Python 3",
      "name": "python3"
    },
    "language_info": {
      "name": "python"
    }
  },
  "nbformat": 4,
  "nbformat_minor": 0
}
