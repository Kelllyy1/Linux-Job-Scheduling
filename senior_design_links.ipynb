{
  "nbformat": 4,
  "nbformat_minor": 0,
  "metadata": {
    "colab": {
      "provenance": [],
      "authorship_tag": "ABX9TyNDHt3INX/HqXN/cXtc25/U",
      "include_colab_link": true
    },
    "kernelspec": {
      "name": "python3",
      "display_name": "Python 3"
    },
    "language_info": {
      "name": "python"
    }
  },
  "cells": [
    {
      "cell_type": "markdown",
      "metadata": {
        "id": "view-in-github",
        "colab_type": "text"
      },
      "source": [
        "<a href=\"https://colab.research.google.com/github/Kelllyy1/Scripting/blob/main/senior_design_links.ipynb\" target=\"_parent\"><img src=\"https://colab.research.google.com/assets/colab-badge.svg\" alt=\"Open In Colab\"/></a>"
      ]
    },
    {
      "cell_type": "code",
      "execution_count": null,
      "metadata": {
        "colab": {
          "base_uri": "https://localhost:8080/"
        },
        "id": "sfFc2szKZHqb",
        "outputId": "eb4267fb-8b53-44c8-a71f-a58aab0642d5"
      },
      "outputs": [
        {
          "output_type": "stream",
          "name": "stdout",
          "text": [
            "https://www.ece.ucf.edu/seniordesign/fa2023sp2024/g01\n",
            "https://www.ece.ucf.edu/seniordesign/fa2023sp2024/g02\n",
            "https://www.ece.ucf.edu/seniordesign/fa2023sp2024/g03\n",
            "https://www.ece.ucf.edu/seniordesign/fa2023sp2024/g04\n",
            "https://www.ece.ucf.edu/seniordesign/fa2023sp2024/g05\n",
            "https://www.ece.ucf.edu/seniordesign/fa2023sp2024/g06\n",
            "https://www.ece.ucf.edu/seniordesign/fa2023sp2024/g07\n",
            "https://www.ece.ucf.edu/seniordesign/fa2023sp2024/g08\n",
            "https://www.ece.ucf.edu/seniordesign/fa2023sp2024/g09\n",
            "https://www.ece.ucf.edu/seniordesign/fa2023sp2024/g10\n",
            "https://www.ece.ucf.edu/seniordesign/fa2023sp2024/g11\n",
            "https://www.ece.ucf.edu/seniordesign/fa2023sp2024/g12\n",
            "https://www.ece.ucf.edu/seniordesign/fa2023sp2024/g13\n",
            "https://www.ece.ucf.edu/seniordesign/fa2023sp2024/g14\n",
            "https://www.ece.ucf.edu/seniordesign/fa2023sp2024/g15\n",
            "https://www.ece.ucf.edu/seniordesign/fa2023sp2024/g16\n",
            "https://www.ece.ucf.edu/seniordesign/fa2023sp2024/g17\n",
            "https://www.ece.ucf.edu/seniordesign/fa2023sp2024/g18\n",
            "https://www.ece.ucf.edu/seniordesign/fa2023sp2024/g19\n",
            "https://www.ece.ucf.edu/seniordesign/fa2023sp2024/g20\n",
            "https://www.ece.ucf.edu/seniordesign/fa2023sp2024/g21\n",
            "https://www.ece.ucf.edu/seniordesign/fa2023sp2024/g22\n",
            "https://www.ece.ucf.edu/seniordesign/fa2023sp2024/g23\n",
            "https://www.ece.ucf.edu/seniordesign/fa2023sp2024/g24\n",
            "https://www.ece.ucf.edu/seniordesign/fa2023sp2024/g25\n",
            "https://www.ece.ucf.edu/seniordesign/fa2023sp2024/g26\n",
            "https://www.ece.ucf.edu/seniordesign/fa2023sp2024/g27\n",
            "https://www.ece.ucf.edu/seniordesign/fa2023sp2024/g28\n",
            "https://www.ece.ucf.edu/seniordesign/fa2023sp2024/g29\n",
            "https://www.ece.ucf.edu/seniordesign/fa2023sp2024/g30\n",
            "https://www.ece.ucf.edu/seniordesign/fa2023sp2024/g31\n",
            "https://www.ece.ucf.edu/seniordesign/fa2023sp2024/g32\n",
            "https://www.ece.ucf.edu/seniordesign/fa2023sp2024/g33\n",
            "https://www.ece.ucf.edu/seniordesign/fa2023sp2024/g34\n",
            "https://www.ece.ucf.edu/seniordesign/fa2023sp2024/g35\n",
            "https://www.ece.ucf.edu/seniordesign/fa2023sp2024/g36\n",
            "https://www.ece.ucf.edu/seniordesign/fa2023sp2024/g37\n",
            "https://www.ece.ucf.edu/seniordesign/fa2023sp2024/g38\n",
            "https://www.ece.ucf.edu/seniordesign/fa2023sp2024/g39\n"
          ]
        }
      ],
      "source": [
        "# UCF Senior Design Project Link Generator (Fall 2023 - Spring 2024)\n",
        "\n",
        "base_url = \"https://www.ece.ucf.edu/seniordesign/fa2023sp2024/g\"\n",
        "project_links = []\n",
        "\n",
        "# Generate g01 to g39\n",
        "for i in range(1, 40):\n",
        "    group_number = str(i).zfill(2)\n",
        "    url = f\"{base_url}{group_number}\"\n",
        "    project_links.append(url)\n",
        "\n",
        "# Print the links\n",
        "for link in project_links:\n",
        "    print(link)"
      ]
    }
  ]
}